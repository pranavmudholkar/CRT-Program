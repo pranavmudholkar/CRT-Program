{
  "nbformat": 4,
  "nbformat_minor": 0,
  "metadata": {
    "colab": {
      "name": "05/12/19.ipynb",
      "provenance": [],
      "collapsed_sections": []
    },
    "kernelspec": {
      "name": "python3",
      "display_name": "Python 3"
    }
  },
  "cells": [
    {
      "cell_type": "code",
      "metadata": {
        "id": "p5fNzThTLmYZ",
        "colab_type": "code",
        "outputId": "3c7cdf6f-f6fc-40e6-d63a-8f27d4d2190c",
        "colab": {
          "base_uri": "https://localhost:8080/",
          "height": 85
        }
      },
      "source": [
        "#basic list functions\n",
        "li = [1,9,16,25,5]\n",
        "print(max(li))\n",
        "print(min(li))\n",
        "print(sum(li))\n",
        "print(sum(li)//len(li))"
      ],
      "execution_count": 0,
      "outputs": [
        {
          "output_type": "stream",
          "text": [
            "25\n",
            "1\n",
            "56\n",
            "11\n"
          ],
          "name": "stdout"
        }
      ]
    },
    {
      "cell_type": "code",
      "metadata": {
        "id": "B2NvzhYxMLu6",
        "colab_type": "code",
        "outputId": "c94c443c-1c98-4035-c12c-9a0b2c8736b8",
        "colab": {
          "base_uri": "https://localhost:8080/",
          "height": 34
        }
      },
      "source": [
        "li = [1,9,16,25,5]\n",
        "li.append(29) #add the new items at at last\n",
        "li\n",
        "li.insert(2,56) #add new item at the particular index\n",
        "li\n",
        "li.append(9)  #add the new items at at last\n",
        "li\n",
        "li.count(9) #counts the number of that particular terms\n",
        "li\n",
        "li.index(56) #tells us at which position that particular number is"
      ],
      "execution_count": 0,
      "outputs": [
        {
          "output_type": "execute_result",
          "data": {
            "text/plain": [
              "2"
            ]
          },
          "metadata": {
            "tags": []
          },
          "execution_count": 10
        }
      ]
    },
    {
      "cell_type": "code",
      "metadata": {
        "id": "rT8MHhNYM68d",
        "colab_type": "code",
        "outputId": "d6dba276-bb03-40e2-9d69-46f58ff5d556",
        "colab": {
          "base_uri": "https://localhost:8080/",
          "height": 34
        }
      },
      "source": [
        "li = [1,9,16,25,5]\n",
        "li.sort() #sorts the sequence in assending order\n",
        "li"
      ],
      "execution_count": 0,
      "outputs": [
        {
          "output_type": "execute_result",
          "data": {
            "text/plain": [
              "[1, 5, 9, 16, 25]"
            ]
          },
          "metadata": {
            "tags": []
          },
          "execution_count": 12
        }
      ]
    },
    {
      "cell_type": "code",
      "metadata": {
        "id": "Cku2b-7cPQj7",
        "colab_type": "code",
        "outputId": "7a45218f-fe89-40cc-dcd7-97c43d5292fb",
        "colab": {
          "base_uri": "https://localhost:8080/",
          "height": 34
        }
      },
      "source": [
        "li = [1,9,16,25,5]\n",
        "li.pop() #deletes last index value\n",
        "li"
      ],
      "execution_count": 0,
      "outputs": [
        {
          "output_type": "execute_result",
          "data": {
            "text/plain": [
              "[1, 9, 16, 25]"
            ]
          },
          "metadata": {
            "tags": []
          },
          "execution_count": 14
        }
      ]
    },
    {
      "cell_type": "code",
      "metadata": {
        "id": "TziYTaExPLgZ",
        "colab_type": "code",
        "outputId": "d25e5512-f9a5-49c9-adb6-7e327659e90c",
        "colab": {
          "base_uri": "https://localhost:8080/",
          "height": 34
        }
      },
      "source": [
        "li = [1,9,16,25,5]\n",
        "li.pop(2) #deletes that particular index value\n",
        "li"
      ],
      "execution_count": 0,
      "outputs": [
        {
          "output_type": "execute_result",
          "data": {
            "text/plain": [
              "[1, 9, 25, 5]"
            ]
          },
          "metadata": {
            "tags": []
          },
          "execution_count": 15
        }
      ]
    },
    {
      "cell_type": "code",
      "metadata": {
        "id": "Rye36WimQQpu",
        "colab_type": "code",
        "outputId": "d4c788e4-74ec-45fb-a2bb-18ab381c9dc9",
        "colab": {
          "base_uri": "https://localhost:8080/",
          "height": 34
        }
      },
      "source": [
        "li1= [1,9,16,25,5]\n",
        "li.extend(li1) #extends the list by li1\n",
        "li"
      ],
      "execution_count": 0,
      "outputs": [
        {
          "output_type": "execute_result",
          "data": {
            "text/plain": [
              "[1, 9, 16, 25, 5, 1, 9, 16, 25, 5]"
            ]
          },
          "metadata": {
            "tags": []
          },
          "execution_count": 18
        }
      ]
    },
    {
      "cell_type": "code",
      "metadata": {
        "id": "ldPALlckQxOe",
        "colab_type": "code",
        "outputId": "e7b6b4db-516c-487c-accc-81ccdab16ebb",
        "colab": {
          "base_uri": "https://localhost:8080/",
          "height": 34
        }
      },
      "source": [
        "li = [1,9,16,25,5]\n",
        "li.reverse() #reverses the order\n",
        "li"
      ],
      "execution_count": 0,
      "outputs": [
        {
          "output_type": "execute_result",
          "data": {
            "text/plain": [
              "[5, 25, 16, 9, 1]"
            ]
          },
          "metadata": {
            "tags": []
          },
          "execution_count": 22
        }
      ]
    },
    {
      "cell_type": "code",
      "metadata": {
        "id": "vEjBIiKCRg7F",
        "colab_type": "code",
        "outputId": "ed089fa0-4957-4e89-c175-1a063fab014e",
        "colab": {
          "base_uri": "https://localhost:8080/",
          "height": 51
        }
      },
      "source": [
        "def largenumber(li):\n",
        "  li.sort()\n",
        "  return li[-1]\n",
        "def genericlarge(li,n): #prints the largest number in the list given\n",
        "  li.sort()\n",
        "  return li[-n]\n",
        "li=[1,9,16,25,5,45,22]\n",
        "print(largenumber(li))\n",
        "print(genericlarge(li,3)) #prints the 3rd largest number in the list given"
      ],
      "execution_count": 0,
      "outputs": [
        {
          "output_type": "stream",
          "text": [
            "45\n",
            "22\n"
          ],
          "name": "stdout"
        }
      ]
    },
    {
      "cell_type": "code",
      "metadata": {
        "id": "TNnVT1CYTdxI",
        "colab_type": "code",
        "outputId": "6679f5e9-4c74-439c-90c2-07ba9779eb75",
        "colab": {
          "base_uri": "https://localhost:8080/",
          "height": 51
        }
      },
      "source": [
        "def smallnumber(li):\n",
        "  li.sort()\n",
        "  return li[0]\n",
        "def generismall(li,n): #prints the smallest number in the list given\n",
        "  li.sort()\n",
        "  return li[n-1]\n",
        "li=[1,9,16,25,5,45,22]\n",
        "print(smallnumber(li))\n",
        "print(generismall(li,3))  #prints the 3rd smallest number in the list given       "
      ],
      "execution_count": 0,
      "outputs": [
        {
          "output_type": "stream",
          "text": [
            "1\n",
            "9\n"
          ],
          "name": "stdout"
        }
      ]
    },
    {
      "cell_type": "markdown",
      "metadata": {
        "id": "an0TX3AFZ584",
        "colab_type": "text"
      },
      "source": [
        "###tuples\n",
        "- parenthesis() ---> Tuple and square brackets[]-----list\n",
        "- diffrence between list and tuples\n",
        "   - list are mutable- can be changed/modified\n",
        "   - used to access and modify,add,delete data\n",
        "   - tuples are immutable - cannot be changed \n",
        "   - used to access data only"
      ]
    },
    {
      "cell_type": "code",
      "metadata": {
        "id": "5KODPp97auly",
        "colab_type": "code",
        "colab": {
          "base_uri": "https://localhost:8080/",
          "height": 34
        },
        "outputId": "0648440b-68ef-4fe6-cca9-2ef9aabf8aca"
      },
      "source": [
        "t1= (1,2,3,4,5,6)\n",
        "t1\n",
        "print(type(t1),t1[1:5])"
      ],
      "execution_count": 33,
      "outputs": [
        {
          "output_type": "stream",
          "text": [
            "<class 'tuple'> (2, 3, 4, 5)\n"
          ],
          "name": "stdout"
        }
      ]
    },
    {
      "cell_type": "markdown",
      "metadata": {
        "id": "g8aWtD4-bQi9",
        "colab_type": "text"
      },
      "source": [
        "###Dictionaries\n",
        "1. it works on the concept of Set unique data\n",
        "2. keys,values is the unique identifier for the value\n",
        "3. each key is seperated from its value with colon(:)\n",
        "4. each key and value is seperated with comma(,)\n",
        "5. Dictionaries enhanced with curly brackets({})"
      ]
    },
    {
      "cell_type": "code",
      "metadata": {
        "id": "isNCzg8JdlGN",
        "colab_type": "code",
        "colab": {
          "base_uri": "https://localhost:8080/",
          "height": 34
        },
        "outputId": "f13f4cc8-0ed1-4a74-839e-d976d9caebf1"
      },
      "source": [
        "d1= {\"name\":\"gitam\",\"email id\":\"gitam@gmail.com\", \"address\":\"hyderabad\"}\n",
        "d1"
      ],
      "execution_count": 35,
      "outputs": [
        {
          "output_type": "execute_result",
          "data": {
            "text/plain": [
              "{'address': 'hyderabad', 'email id': 'gitam@gmail.com', 'name': 'gitam'}"
            ]
          },
          "metadata": {
            "tags": []
          },
          "execution_count": 35
        }
      ]
    },
    {
      "cell_type": "code",
      "metadata": {
        "id": "981bSaq6eAva",
        "colab_type": "code",
        "colab": {
          "base_uri": "https://localhost:8080/",
          "height": 34
        },
        "outputId": "24e275cc-6da1-4cf6-a6be-f18eb1b0af50"
      },
      "source": [
        "d1[\"name\"] #access the specific key"
      ],
      "execution_count": 38,
      "outputs": [
        {
          "output_type": "execute_result",
          "data": {
            "text/plain": [
              "'gitam'"
            ]
          },
          "metadata": {
            "tags": []
          },
          "execution_count": 38
        }
      ]
    },
    {
      "cell_type": "code",
      "metadata": {
        "id": "hAmScHoEePHM",
        "colab_type": "code",
        "colab": {
          "base_uri": "https://localhost:8080/",
          "height": 34
        },
        "outputId": "3e4e2f80-5d06-4260-a075-8412d5cb587b"
      },
      "source": [
        "d1= {\"name\":\"gitam\",\"email id\":\"gitam@gmail.com\", \"address\":\"hyderabad\"}\n",
        "d1[\"email id\"]=\"gitampython@gmail.com\" #update the data\n",
        "d1"
      ],
      "execution_count": 41,
      "outputs": [
        {
          "output_type": "execute_result",
          "data": {
            "text/plain": [
              "{'address': 'hyderabad', 'email id': 'gitampython@gmail.com', 'name': 'gitam'}"
            ]
          },
          "metadata": {
            "tags": []
          },
          "execution_count": 41
        }
      ]
    },
    {
      "cell_type": "code",
      "metadata": {
        "id": "McbLpo0re3Ei",
        "colab_type": "code",
        "colab": {
          "base_uri": "https://localhost:8080/",
          "height": 34
        },
        "outputId": "ad464f1b-b98c-4262-9175-db8071dec356"
      },
      "source": [
        "d1[\"email id\"]"
      ],
      "execution_count": 42,
      "outputs": [
        {
          "output_type": "execute_result",
          "data": {
            "text/plain": [
              "'gitampython@gmail.com'"
            ]
          },
          "metadata": {
            "tags": []
          },
          "execution_count": 42
        }
      ]
    },
    {
      "cell_type": "code",
      "metadata": {
        "id": "ntxXaNqyfCTR",
        "colab_type": "code",
        "colab": {
          "base_uri": "https://localhost:8080/",
          "height": 85
        },
        "outputId": "c0a27422-b8dc-46a0-9939-790778d6230d"
      },
      "source": [
        "d1[\"course\"]=\"python\" #adding an entry\n",
        "d1"
      ],
      "execution_count": 43,
      "outputs": [
        {
          "output_type": "execute_result",
          "data": {
            "text/plain": [
              "{'address': 'hyderabad',\n",
              " 'course': 'python',\n",
              " 'email id': 'gitampython@gmail.com',\n",
              " 'name': 'gitam'}"
            ]
          },
          "metadata": {
            "tags": []
          },
          "execution_count": 43
        }
      ]
    },
    {
      "cell_type": "code",
      "metadata": {
        "id": "pq1Nf3YZfaGK",
        "colab_type": "code",
        "colab": {
          "base_uri": "https://localhost:8080/",
          "height": 34
        },
        "outputId": "9a27bfd7-70fa-4658-b343-18812d3dd521"
      },
      "source": [
        "\n",
        "d1\n",
        "del d1[\"course\"]\n",
        "d1"
      ],
      "execution_count": 53,
      "outputs": [
        {
          "output_type": "execute_result",
          "data": {
            "text/plain": [
              "{'address': 'hyderabad', 'name': 'gitam'}"
            ]
          },
          "metadata": {
            "tags": []
          },
          "execution_count": 53
        }
      ]
    },
    {
      "cell_type": "code",
      "metadata": {
        "id": "wjSbQ0eDgcuJ",
        "colab_type": "code",
        "colab": {
          "base_uri": "https://localhost:8080/",
          "height": 34
        },
        "outputId": "d3c4e049-001a-438c-c125-1dd1680b48ed"
      },
      "source": [
        "d1.keys()  "
      ],
      "execution_count": 54,
      "outputs": [
        {
          "output_type": "execute_result",
          "data": {
            "text/plain": [
              "dict_keys(['name', 'address'])"
            ]
          },
          "metadata": {
            "tags": []
          },
          "execution_count": 54
        }
      ]
    },
    {
      "cell_type": "code",
      "metadata": {
        "id": "yvT9onR8hnyk",
        "colab_type": "code",
        "colab": {
          "base_uri": "https://localhost:8080/",
          "height": 34
        },
        "outputId": "4df9a6b0-cb5d-4a3d-e81c-c0c561f1adf2"
      },
      "source": [
        "d1.values()"
      ],
      "execution_count": 55,
      "outputs": [
        {
          "output_type": "execute_result",
          "data": {
            "text/plain": [
              "dict_values(['gitam', 'hyderabad'])"
            ]
          },
          "metadata": {
            "tags": []
          },
          "execution_count": 55
        }
      ]
    },
    {
      "cell_type": "code",
      "metadata": {
        "id": "iCjY1meeiFUb",
        "colab_type": "code",
        "colab": {
          "base_uri": "https://localhost:8080/",
          "height": 34
        },
        "outputId": "c17d48a6-d841-4b9a-edf9-eaf281837bdf"
      },
      "source": [
        "d1.items()  #prints all the keys and values"
      ],
      "execution_count": 57,
      "outputs": [
        {
          "output_type": "execute_result",
          "data": {
            "text/plain": [
              "dict_items([('name', 'gitam'), ('address', 'hyderabad')])"
            ]
          },
          "metadata": {
            "tags": []
          },
          "execution_count": 57
        }
      ]
    },
    {
      "cell_type": "markdown",
      "metadata": {
        "id": "9BXPoTZ1iRLA",
        "colab_type": "text"
      },
      "source": [
        "###string\n",
        "- strings\n",
        "- string slicings\n",
        "- fundamental programming with string in python"
      ]
    },
    {
      "cell_type": "code",
      "metadata": {
        "id": "P2P5DrueihEb",
        "colab_type": "code",
        "colab": {
          "base_uri": "https://localhost:8080/",
          "height": 51
        },
        "outputId": "f0094181-1eb1-4d76-c6e7-a29ed43498fd"
      },
      "source": [
        "s1='python'\n",
        "print(s1)\n",
        "print(type(s1))"
      ],
      "execution_count": 58,
      "outputs": [
        {
          "output_type": "stream",
          "text": [
            "python\n",
            "<class 'str'>\n"
          ],
          "name": "stdout"
        }
      ]
    },
    {
      "cell_type": "code",
      "metadata": {
        "id": "76iP_5swi5QD",
        "colab_type": "code",
        "colab": {
          "base_uri": "https://localhost:8080/",
          "height": 85
        },
        "outputId": "39ffc918-862a-469b-ce5d-a13fed47921b"
      },
      "source": [
        "s1='python'\n",
        "print(s1[0]) #access the first charecter\n",
        "print(s1[1]) #access the second charecter\n",
        "print(s1[5]) #last charecter\n",
        "print(s1[len(s1)-1]) #access the last charecter"
      ],
      "execution_count": 62,
      "outputs": [
        {
          "output_type": "stream",
          "text": [
            "p\n",
            "y\n",
            "n\n",
            "n\n"
          ],
          "name": "stdout"
        }
      ]
    },
    {
      "cell_type": "code",
      "metadata": {
        "id": "-F1GsTsxjYyj",
        "colab_type": "code",
        "colab": {
          "base_uri": "https://localhost:8080/",
          "height": 119
        },
        "outputId": "e2e69d76-7122-4126-8669-6d47adeeb18e"
      },
      "source": [
        "print(s1[-1]) #another way to access the last charecter\n",
        "print(s1[-2]) #another way to access the second last charecter\n",
        "print(s1[0:2]) #access the charecters between 0 and 2\n",
        "print(s1[:2]) #access the charecters with index 2 till the end\n",
        "print(s1[-3:]) #access the chsarecters from -3 til end\n",
        "print(s1[2:]) #from 2 till end"
      ],
      "execution_count": 64,
      "outputs": [
        {
          "output_type": "stream",
          "text": [
            "n\n",
            "o\n",
            "py\n",
            "py\n",
            "hon\n",
            "thon\n"
          ],
          "name": "stdout"
        }
      ]
    },
    {
      "cell_type": "code",
      "metadata": {
        "id": "6CGrA2rzkgwi",
        "colab_type": "code",
        "colab": {
          "base_uri": "https://localhost:8080/",
          "height": 136
        },
        "outputId": "355630bd-714b-4334-e887-174a7dcba40d"
      },
      "source": [
        "print(s1[1:-1]) #prints all the charecters other than first and last\n",
        "print(s1[len(s1)//2]) #middle of the string\n",
        "print(s1[-1::1]) #reverse of the string\n",
        "print(s1[-1:3:-1]) #access the last two charecters in reverse order\n",
        "#acceess the alternate charecters\n",
        "print(s1[::2]) #two charecters that is every 2nd charecter will be printed\n",
        "print(s1[::3]) #three charecters that is every 3rd charecter will be printed\n",
        "print(s1[::-2]) #fom reverse that is every 2nd charecter will be printed in the reverse order"
      ],
      "execution_count": 69,
      "outputs": [
        {
          "output_type": "stream",
          "text": [
            "ytho\n",
            "h\n",
            "n\n",
            "no\n",
            "pto\n",
            "ph\n",
            "nhy\n"
          ],
          "name": "stdout"
        }
      ]
    },
    {
      "cell_type": "code",
      "metadata": {
        "id": "oDk83ORpl6vK",
        "colab_type": "code",
        "colab": {
          "base_uri": "https://localhost:8080/",
          "height": 34
        },
        "outputId": "3d6649b2-0867-484e-a851-ea748da4200f"
      },
      "source": [
        "#reversing of a string \n",
        "def reversestring(str):\n",
        "   return str[-1::-1]\n",
        "reversestring(\"programming\")"
      ],
      "execution_count": 73,
      "outputs": [
        {
          "output_type": "execute_result",
          "data": {
            "text/plain": [
              "'gnimmargorp'"
            ]
          },
          "metadata": {
            "tags": []
          },
          "execution_count": 73
        }
      ]
    },
    {
      "cell_type": "code",
      "metadata": {
        "id": "GHrxlfmOoCbf",
        "colab_type": "code",
        "colab": {
          "base_uri": "https://localhost:8080/",
          "height": 51
        },
        "outputId": "0c09b1f1-80d7-422e-b2df-455f385396df"
      },
      "source": [
        "def ispalindrome(str):\n",
        "  if str==str[-1::-1]:\n",
        "    return True\n",
        "  else:\n",
        "    return False\n",
        "  return\n",
        "print(ispalindrome(\"python\"))\n",
        "print(ispalindrome('ganag'))"
      ],
      "execution_count": 75,
      "outputs": [
        {
          "output_type": "stream",
          "text": [
            "False\n",
            "True\n"
          ],
          "name": "stdout"
        }
      ]
    },
    {
      "cell_type": "code",
      "metadata": {
        "id": "4VNEBvXbpNaq",
        "colab_type": "code",
        "colab": {
          "base_uri": "https://localhost:8080/",
          "height": 51
        },
        "outputId": "9fdc08ea-0ca5-4a25-fad4-45f4612a431b"
      },
      "source": [
        "def ispalindrome(str):\n",
        "  if str==str[::-1]:\n",
        "    return True\n",
        "  else:\n",
        "    return False\n",
        "print(ispalindrome(\"python\"))\n",
        "print(ispalindrome('ganag'))"
      ],
      "execution_count": 77,
      "outputs": [
        {
          "output_type": "stream",
          "text": [
            "False\n",
            "True\n"
          ],
          "name": "stdout"
        }
      ]
    },
    {
      "cell_type": "markdown",
      "metadata": {
        "id": "pvUrSkZGqXsB",
        "colab_type": "text"
      },
      "source": [
        "###string built-in methods:\n",
        "1. upper() - will convert the input string into upper case \n",
        "2. lower() - will convert the input string into lower case "
      ]
    },
    {
      "cell_type": "code",
      "metadata": {
        "id": "5DzKp9P2qZl4",
        "colab_type": "code",
        "colab": {
          "base_uri": "https://localhost:8080/",
          "height": 51
        },
        "outputId": "878b48a2-14e7-497f-a22b-762aa0bb080c"
      },
      "source": [
        "s1='python'\n",
        "print(s1.upper())\n",
        "print(s1.lower())"
      ],
      "execution_count": 79,
      "outputs": [
        {
          "output_type": "stream",
          "text": [
            "PYTHON\n",
            "python\n"
          ],
          "name": "stdout"
        }
      ]
    },
    {
      "cell_type": "markdown",
      "metadata": {
        "id": "yCNGFaJuq0Sg",
        "colab_type": "text"
      },
      "source": [
        "###string boolean built-in methods\n",
        "1. islower()---> true if the string have all charecters lower case\n",
        "2. isupper()---> true if the string have all charecters upper case\n",
        "3. istitle()---> true if the string is in title case\n",
        "4. isnumeric()---> true if the string is numeric\n",
        "5. isalpha()----> true if string has only alphabets\n",
        "6. isspace()-----> true if string is space"
      ]
    },
    {
      "cell_type": "code",
      "metadata": {
        "id": "-p2AiW6srvq-",
        "colab_type": "code",
        "colab": {
          "base_uri": "https://localhost:8080/",
          "height": 119
        },
        "outputId": "1f50f8aa-b6df-4f5b-a55c-5e24e89cd9d9"
      },
      "source": [
        "s2='123345463'\n",
        "s1='abc123'\n",
        "print(s1.islower())\n",
        "print(s1.isupper())\n",
        "print(s1.istitle())\n",
        "print(s2.isnumeric())\n",
        "print(s1.isalpha())\n",
        "print(s1.isspace())"
      ],
      "execution_count": 85,
      "outputs": [
        {
          "output_type": "stream",
          "text": [
            "True\n",
            "False\n",
            "False\n",
            "True\n",
            "False\n",
            "False\n"
          ],
          "name": "stdout"
        }
      ]
    },
    {
      "cell_type": "code",
      "metadata": {
        "id": "5LQydFzar7wD",
        "colab_type": "code",
        "colab": {
          "base_uri": "https://localhost:8080/",
          "height": 119
        },
        "outputId": "f3d8dcb5-6fa0-47e1-e158-fcff80ee8978"
      },
      "source": [
        "s2='123345463'\n",
        "s1='ABx123'\n",
        "print(s1.islower())\n",
        "print(s1.isupper())\n",
        "print(s1.istitle())\n",
        "print(s2.isnumeric())\n",
        "print(s1.isalpha())\n",
        "print(s1.isspace())"
      ],
      "execution_count": 86,
      "outputs": [
        {
          "output_type": "stream",
          "text": [
            "False\n",
            "False\n",
            "False\n",
            "True\n",
            "False\n",
            "False\n"
          ],
          "name": "stdout"
        }
      ]
    },
    {
      "cell_type": "code",
      "metadata": {
        "id": "R19NqeQus2B5",
        "colab_type": "code",
        "colab": {
          "base_uri": "https://localhost:8080/",
          "height": 51
        },
        "outputId": "b9385e2d-324b-464b-eb31-d14c30832253"
      },
      "source": [
        "s2='pr an av'\n",
        "s1= ' '\n",
        "print(s1.isspace())\n",
        "print(s2.isspace())"
      ],
      "execution_count": 88,
      "outputs": [
        {
          "output_type": "stream",
          "text": [
            "True\n",
            "False\n"
          ],
          "name": "stdout"
        }
      ]
    },
    {
      "cell_type": "markdown",
      "metadata": {
        "id": "TDWMYmnltyd4",
        "colab_type": "text"
      },
      "source": [
        "## string methods\n",
        "- join()-- method will concatinates the two strings\n",
        "- split()-- split() returns a list of stings seperated by whitespace( no parameters)\n",
        "- replace()- replaces the specific word/charecter with new word/charecter"
      ]
    },
    {
      "cell_type": "code",
      "metadata": {
        "id": "U3NUzn_hue-T",
        "colab_type": "code",
        "colab": {
          "base_uri": "https://localhost:8080/",
          "height": 34
        },
        "outputId": "c5d6c463-f49a-491f-a4fb-c4061a0ed6e8"
      },
      "source": [
        "s1='python'\n",
        "print(\" \".join(s1))"
      ],
      "execution_count": 92,
      "outputs": [
        {
          "output_type": "stream",
          "text": [
            "p y t h o n\n"
          ],
          "name": "stdout"
        }
      ]
    },
    {
      "cell_type": "code",
      "metadata": {
        "id": "eK9xGvOTunaa",
        "colab_type": "code",
        "colab": {
          "base_uri": "https://localhost:8080/",
          "height": 34
        },
        "outputId": "8bd9fd36-ad8c-47cc-f9ad-4dd23f5612cd"
      },
      "source": [
        "s1='python programming is good'\n",
        "print(\",\".join(s1))"
      ],
      "execution_count": 94,
      "outputs": [
        {
          "output_type": "stream",
          "text": [
            "p,y,t,h,o,n, ,p,r,o,g,r,a,m,m,i,n,g, ,i,s, ,g,o,o,d\n"
          ],
          "name": "stdout"
        }
      ]
    },
    {
      "cell_type": "code",
      "metadata": {
        "id": "3ffqgLrEvAqa",
        "colab_type": "code",
        "colab": {
          "base_uri": "https://localhost:8080/",
          "height": 34
        },
        "outputId": "369677a7-e7f5-4fc5-fa28-3bbb77d1a22f"
      },
      "source": [
        "li=['python','programming','learn']\n",
        "print(\",\".join(li))"
      ],
      "execution_count": 95,
      "outputs": [
        {
          "output_type": "stream",
          "text": [
            "python,programming,learn\n"
          ],
          "name": "stdout"
        }
      ]
    },
    {
      "cell_type": "code",
      "metadata": {
        "id": "tx2fD3NgvmDR",
        "colab_type": "code",
        "colab": {
          "base_uri": "https://localhost:8080/",
          "height": 34
        },
        "outputId": "989025d4-5779-4597-bf71-b8c706c78210"
      },
      "source": [
        "s2=\"python programming easy to learn\"\n",
        "print(s2.split())"
      ],
      "execution_count": 96,
      "outputs": [
        {
          "output_type": "stream",
          "text": [
            "['python', 'programming', 'easy', 'to', 'learn']\n"
          ],
          "name": "stdout"
        }
      ]
    },
    {
      "cell_type": "code",
      "metadata": {
        "id": "l0Xa_sYDvvqx",
        "colab_type": "code",
        "colab": {
          "base_uri": "https://localhost:8080/",
          "height": 34
        },
        "outputId": "c61102a3-4345-48b3-80ab-f2ef6ff5eaea"
      },
      "source": [
        "s2=\"python programming easy to learn\"\n",
        "print(s2.split('a'))"
      ],
      "execution_count": 97,
      "outputs": [
        {
          "output_type": "stream",
          "text": [
            "['python progr', 'mming e', 'sy to le', 'rn']\n"
          ],
          "name": "stdout"
        }
      ]
    },
    {
      "cell_type": "code",
      "metadata": {
        "id": "uhXNgiE8v0T-",
        "colab_type": "code",
        "colab": {
          "base_uri": "https://localhost:8080/",
          "height": 68
        },
        "outputId": "a9e3ac1f-06fc-4371-e67d-ca3ec209d80c"
      },
      "source": [
        "s2=\"python programming easy to learn\"\n",
        "print(len(s2))\n",
        "li=s2.split() #split\n",
        "li=s2.split()\n",
        "print(li)\n",
        "print(len(li))"
      ],
      "execution_count": 98,
      "outputs": [
        {
          "output_type": "stream",
          "text": [
            "32\n",
            "['python', 'programming', 'easy', 'to', 'learn']\n",
            "5\n"
          ],
          "name": "stdout"
        }
      ]
    },
    {
      "cell_type": "code",
      "metadata": {
        "id": "6yFnTnEIx7lj",
        "colab_type": "code",
        "colab": {
          "base_uri": "https://localhost:8080/",
          "height": 54
        },
        "outputId": "2908d42e-0dd3-44a5-98d0-efb6304ab41f"
      },
      "source": [
        "s2=\"python programming easy to learn\"\n",
        "li=list(s2)\n",
        "print(li)"
      ],
      "execution_count": 99,
      "outputs": [
        {
          "output_type": "stream",
          "text": [
            "['p', 'y', 't', 'h', 'o', 'n', ' ', 'p', 'r', 'o', 'g', 'r', 'a', 'm', 'm', 'i', 'n', 'g', ' ', 'e', 'a', 's', 'y', ' ', 't', 'o', ' ', 'l', 'e', 'a', 'r', 'n']\n"
          ],
          "name": "stdout"
        }
      ]
    },
    {
      "cell_type": "code",
      "metadata": {
        "id": "M8RydPpCyJZq",
        "colab_type": "code",
        "colab": {
          "base_uri": "https://localhost:8080/",
          "height": 34
        },
        "outputId": "37faa2de-b591-467e-ecc4-2a8f5805785d"
      },
      "source": [
        "s2=\"python programming easy to learn\"\n",
        "print(s2.replace(\"gra\",\"applications\"))"
      ],
      "execution_count": 100,
      "outputs": [
        {
          "output_type": "stream",
          "text": [
            "python proapplicationsmming easy to learn\n"
          ],
          "name": "stdout"
        }
      ]
    },
    {
      "cell_type": "code",
      "metadata": {
        "id": "yDfSoaXVyYCL",
        "colab_type": "code",
        "colab": {}
      },
      "source": [
        ""
      ],
      "execution_count": 0,
      "outputs": []
    }
  ]
}